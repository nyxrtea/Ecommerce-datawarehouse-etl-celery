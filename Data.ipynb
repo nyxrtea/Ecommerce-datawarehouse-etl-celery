{
 "cells": [
  {
   "cell_type": "code",
   "execution_count": 1,
   "id": "f5d3d64d",
   "metadata": {},
   "outputs": [
    {
     "name": "stdout",
     "output_type": "stream",
     "text": [
      "Data berhasil dimasukkan ke tabel 'order_dataset' di database PostgreSQL.\n"
     ]
    }
   ],
   "source": [
    "import pandas as pd\n",
    "from sqlalchemy import create_engine\n",
    "\n",
    "# Konfigurasi koneksi ke PostgreSQL\n",
    "host = \"localhost\"\n",
    "port = \"5432\"\n",
    "database = \"ecomanalyticsdb\"\n",
    "user = \"postgres\"\n",
    "password = \"rev123\"\n",
    "\n",
    "# Buat koneksi SQLAlchemy\n",
    "engine = create_engine(f'postgresql+psycopg2://{user}:{password}@{host}:{port}/{database}')\n",
    "\n",
    "# Baca file CSV\n",
    "csv_file_path = \"df_order_clean.csv\"  # Ganti dengan path file Anda\n",
    "table_name = \"order_dataset\"  # Nama tabel tujuan di PostgreSQL\n",
    "\n",
    "# Baca CSV menggunakan pandas\n",
    "df = pd.read_csv(csv_file_path)\n",
    "\n",
    "# Masukkan ke PostgreSQL\n",
    "df.to_sql(table_name, con=engine, index=False, if_exists='replace')  # 'replace' bisa diganti 'append'\n",
    "\n",
    "print(f\"Data berhasil dimasukkan ke tabel '{table_name}' di database PostgreSQL.\")\n"
   ]
  },
  {
   "cell_type": "code",
   "execution_count": 2,
   "id": "0eaf7654",
   "metadata": {},
   "outputs": [
    {
     "name": "stdout",
     "output_type": "stream",
     "text": [
      "Data berhasil dimasukkan ke tabel 'order_items_dataset' di database PostgreSQL.\n"
     ]
    }
   ],
   "source": [
    "import pandas as pd\n",
    "from sqlalchemy import create_engine\n",
    "\n",
    "# Konfigurasi koneksi ke PostgreSQL\n",
    "host = \"localhost\"\n",
    "port = \"5432\"\n",
    "database = \"ecomanalyticsdb\"\n",
    "user = \"postgres\"\n",
    "password = \"rev123\"\n",
    "\n",
    "# Buat koneksi SQLAlchemy\n",
    "engine = create_engine(f'postgresql+psycopg2://{user}:{password}@{host}:{port}/{database}')\n",
    "\n",
    "# Baca file CSV\n",
    "csv_file_path = \"df_order_item_clean.csv\"  # Ganti dengan path file Anda\n",
    "table_name = \"order_items_dataset\"  # Nama tabel tujuan di PostgreSQL\n",
    "\n",
    "# Baca CSV menggunakan pandas\n",
    "df = pd.read_csv(csv_file_path)\n",
    "\n",
    "# Masukkan ke PostgreSQL\n",
    "df.to_sql(table_name, con=engine, index=False, if_exists='replace')  # 'replace' bisa diganti 'append'\n",
    "\n",
    "print(f\"Data berhasil dimasukkan ke tabel '{table_name}' di database PostgreSQL.\")\n"
   ]
  },
  {
   "cell_type": "code",
   "execution_count": 3,
   "id": "cdba2fdb",
   "metadata": {},
   "outputs": [
    {
     "name": "stdout",
     "output_type": "stream",
     "text": [
      "Data berhasil dimasukkan ke tabel 'order_payment_dataset' di database PostgreSQL.\n"
     ]
    }
   ],
   "source": [
    "import pandas as pd\n",
    "from sqlalchemy import create_engine\n",
    "\n",
    "# Konfigurasi koneksi ke PostgreSQL\n",
    "host = \"localhost\"\n",
    "port = \"5432\"\n",
    "database = \"ecomanalyticsdb\"\n",
    "user = \"postgres\"\n",
    "password = \"rev123\"\n",
    "\n",
    "# Buat koneksi SQLAlchemy\n",
    "engine = create_engine(f'postgresql+psycopg2://{user}:{password}@{host}:{port}/{database}')\n",
    "\n",
    "# Baca file CSV\n",
    "csv_file_path = \"df_order_payments_bersih.csv\"  # Ganti dengan path file Anda\n",
    "table_name = \"order_payment_dataset\"  # Nama tabel tujuan di PostgreSQL\n",
    "\n",
    "# Baca CSV menggunakan pandas\n",
    "df = pd.read_csv(csv_file_path)\n",
    "\n",
    "# Masukkan ke PostgreSQL\n",
    "df.to_sql(table_name, con=engine, index=False, if_exists='replace')  # 'replace' bisa diganti 'append'\n",
    "\n",
    "print(f\"Data berhasil dimasukkan ke tabel '{table_name}' di database PostgreSQL.\")\n"
   ]
  },
  {
   "cell_type": "code",
   "execution_count": 4,
   "id": "e2655bb5",
   "metadata": {},
   "outputs": [
    {
     "name": "stdout",
     "output_type": "stream",
     "text": [
      "Data berhasil dimasukkan ke tabel 'product_id' di database PostgreSQL.\n"
     ]
    }
   ],
   "source": [
    "import pandas as pd\n",
    "from sqlalchemy import create_engine\n",
    "\n",
    "# Konfigurasi koneksi ke PostgreSQL\n",
    "host = \"localhost\"\n",
    "port = \"5432\"\n",
    "database = \"ecomanalyticsdb\"\n",
    "user = \"postgres\"\n",
    "password = \"rev123\"\n",
    "\n",
    "# Buat koneksi SQLAlchemy\n",
    "engine = create_engine(f'postgresql+psycopg2://{user}:{password}@{host}:{port}/{database}')\n",
    "\n",
    "# Baca file CSV\n",
    "csv_file_path = \"product_clean.csv\"  # Ganti dengan path file Anda\n",
    "table_name = \"product_id\"  # Nama tabel tujuan di PostgreSQL\n",
    "\n",
    "# Baca CSV menggunakan pandas\n",
    "df = pd.read_csv(csv_file_path)\n",
    "\n",
    "# Masukkan ke PostgreSQL\n",
    "df.to_sql(table_name, con=engine, index=False, if_exists='replace')  # 'replace' bisa diganti 'append'\n",
    "\n",
    "print(f\"Data berhasil dimasukkan ke tabel '{table_name}' di database PostgreSQL.\")\n"
   ]
  }
 ],
 "metadata": {
  "kernelspec": {
   "display_name": "Python 3",
   "language": "python",
   "name": "python3"
  },
  "language_info": {
   "codemirror_mode": {
    "name": "ipython",
    "version": 3
   },
   "file_extension": ".py",
   "mimetype": "text/x-python",
   "name": "python",
   "nbconvert_exporter": "python",
   "pygments_lexer": "ipython3",
   "version": "3.12.3"
  }
 },
 "nbformat": 4,
 "nbformat_minor": 5
}
